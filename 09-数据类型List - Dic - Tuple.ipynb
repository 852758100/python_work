{
 "cells": [
  {
   "cell_type": "code",
   "execution_count": 10,
   "metadata": {},
   "outputs": [
    {
     "name": "stdout",
     "output_type": "stream",
     "text": [
      "139949568571144\n",
      "139949568571144\n",
      "[1, 5, 3]\n",
      "3\n",
      "[1, 5, 8]\n"
     ]
    }
   ],
   "source": [
    " l = [1,2,3]\n",
    "print(id(l))\n",
    "\n",
    "l.remove(2)\n",
    "print(id(l))\n",
    " \n",
    "l.insert(1,5)\n",
    "print(l)\n",
    "\n",
    "val = l.pop()\n",
    "print(val)\n",
    "\n",
    "l.append(8)\n",
    "print(l)"
   ]
  },
  {
   "cell_type": "code",
   "execution_count": 19,
   "metadata": {},
   "outputs": [
    {
     "name": "stdout",
     "output_type": "stream",
     "text": [
      "[2, 3, 4, 5, 6]\n",
      "[6, 5, 4, 3, 2]\n",
      "[]\n"
     ]
    }
   ],
   "source": [
    "l1 = [m for m in range(2,7)]\n",
    "print(l1)\n",
    "if 7 in l1:\n",
    "    l1.remove(7)\n",
    "    \n",
    "l1.reverse()\n",
    "print(l1)\n",
    "l1.clear()\n",
    "print(l1)"
   ]
  },
  {
   "cell_type": "code",
   "execution_count": 21,
   "metadata": {},
   "outputs": [
    {
     "name": "stdout",
     "output_type": "stream",
     "text": [
      "['cp', 'Wudan', 'Cathy', 1, 2, 3]\n"
     ]
    }
   ],
   "source": [
    "l3 = [1,2,3]\n",
    "l4 = [\"cp\",\"Wudan\",\"Cathy\"]\n",
    "\n",
    "l4.extend(l3)\n",
    "print(l4)"
   ]
  },
  {
   "cell_type": "code",
   "execution_count": 26,
   "metadata": {},
   "outputs": [
    {
     "name": "stdout",
     "output_type": "stream",
     "text": [
      "139949688900680\n",
      "['cp', 'Wudan', 'Cathy', 101, 2, 3] ['cp', 'Wudan', 'Cathy', 12, 2, 3]\n",
      "139949568237832\n"
     ]
    }
   ],
   "source": [
    "print(id(l4))\n",
    "\n",
    "l5 = l4.copy()\n",
    "\n",
    "l5[3] = 101\n",
    "\n",
    "print(l5,l4)\n",
    "print(id(l5))"
   ]
  },
  {
   "cell_type": "code",
   "execution_count": 29,
   "metadata": {},
   "outputs": [
    {
     "name": "stdout",
     "output_type": "stream",
     "text": [
      "<class 'tuple'>\n",
      "(1, 2, 3)\n",
      "<class 'tuple'>\n",
      "(3, 2, 1)\n"
     ]
    }
   ],
   "source": [
    "# 元组\n",
    "t = (1,2,3)\n",
    "print(type(t))\n",
    "print(t)\n",
    "\n",
    "l = [3,2,1]\n",
    "t1 = tuple(l)\n",
    "print(type(t1))\n",
    "print(t1)"
   ]
  },
  {
   "cell_type": "code",
   "execution_count": 33,
   "metadata": {},
   "outputs": [
    {
     "name": "stdout",
     "output_type": "stream",
     "text": [
      "[2, 3, 4, 5]\n",
      "(2, 3, 4, 5)\n",
      "4\n"
     ]
    }
   ],
   "source": [
    "l =[1,2,3,4,5]\n",
    "t = (1,2,3,4,5)\n",
    "print(l[1:10])\n",
    "print(t[1:10])\n",
    "\n",
    "print(t[3])"
   ]
  },
  {
   "cell_type": "code",
   "execution_count": 35,
   "metadata": {},
   "outputs": [
    {
     "ename": "TypeError",
     "evalue": "'tuple' object does not support item assignment",
     "output_type": "error",
     "traceback": [
      "\u001b[0;31m---------------------------------------------------------------------------\u001b[0m",
      "\u001b[0;31mTypeError\u001b[0m                                 Traceback (most recent call last)",
      "\u001b[0;32m<ipython-input-35-1fbd0cb2e500>\u001b[0m in \u001b[0;36m<module>\u001b[0;34m()\u001b[0m\n\u001b[0;32m----> 1\u001b[0;31m \u001b[0mt\u001b[0m\u001b[0;34m[\u001b[0m\u001b[0;36m2\u001b[0m\u001b[0;34m]\u001b[0m \u001b[0;34m=\u001b[0m\u001b[0;36m10\u001b[0m  \u001b[0;31m# 元组内容不可修改, 但可以赋值给其修改地址到另一个元组上.\u001b[0m\u001b[0;34m\u001b[0m\u001b[0m\n\u001b[0m",
      "\u001b[0;31mTypeError\u001b[0m: 'tuple' object does not support item assignment"
     ]
    }
   ],
   "source": [
    "t[2] =10  # 元组内容不可修改, 但可以赋值给其修改地址到另一个元组上."
   ]
  },
  {
   "cell_type": "code",
   "execution_count": 37,
   "metadata": {},
   "outputs": [
    {
     "name": "stdout",
     "output_type": "stream",
     "text": [
      "1 2 3 4 5 "
     ]
    }
   ],
   "source": [
    "for i in t:\n",
    "    print(i,end=\" \")"
   ]
  },
  {
   "cell_type": "code",
   "execution_count": null,
   "metadata": {
    "collapsed": true
   },
   "outputs": [],
   "source": []
  }
 ],
 "metadata": {
  "kernelspec": {
   "display_name": "Python 3",
   "language": "python",
   "name": "python3"
  },
  "language_info": {
   "codemirror_mode": {
    "name": "ipython",
    "version": 3
   },
   "file_extension": ".py",
   "mimetype": "text/x-python",
   "name": "python",
   "nbconvert_exporter": "python",
   "pygments_lexer": "ipython3",
   "version": "3.6.3"
  }
 },
 "nbformat": 4,
 "nbformat_minor": 2
}
