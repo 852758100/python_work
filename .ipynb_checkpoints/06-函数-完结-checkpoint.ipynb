{
 "cells": [
  {
   "cell_type": "markdown",
   "metadata": {},
   "source": [
    "# 收集参数"
   ]
  },
  {
   "cell_type": "code",
   "execution_count": 3,
   "metadata": {
    "collapsed": true
   },
   "outputs": [],
   "source": [
    "def func1(*args):\n",
    "    print(type(args))\n",
    "    for item in args:\n",
    "        print(item)"
   ]
  },
  {
   "cell_type": "code",
   "execution_count": 5,
   "metadata": {},
   "outputs": [
    {
     "name": "stdout",
     "output_type": "stream",
     "text": [
      "<class 'tuple'>\n",
      "cp\n",
      "dc\n",
      "4\n"
     ]
    }
   ],
   "source": [
    "func1(\"cp\",\"dc\",4)"
   ]
  },
  {
   "cell_type": "code",
   "execution_count": 28,
   "metadata": {},
   "outputs": [],
   "source": [
    "def func2( **kwargs ):\n",
    "    print(type(kwargs))\n",
    "    for k,v in kwargs.items():\n",
    "        print(k,\":--\",v)\n"
   ]
  },
  {
   "cell_type": "code",
   "execution_count": 30,
   "metadata": {},
   "outputs": [
    {
     "name": "stdout",
     "output_type": "stream",
     "text": [
      "<class 'dict'>\n",
      "name :-- cp\n",
      "age :-- 18\n",
      "job :-- data Analyst\n"
     ]
    }
   ],
   "source": [
    "func2(name=\"cp\", age=18, job=\"data Analyst\")"
   ]
  },
  {
   "cell_type": "markdown",
   "metadata": {},
   "source": [
    "# 不同种类参数混合调用的问题"
   ]
  },
  {
   "cell_type": "code",
   "execution_count": 40,
   "metadata": {
    "collapsed": true
   },
   "outputs": [],
   "source": [
    "def func3(name, age, sex=\"male\", *args, **kwargs):\n",
    "    print(\"我是:{0},今年{1},{2}\".format(name,age,sex))\n",
    "    for i in args:\n",
    "        print(i)\n",
    "    for k,v in kwargs.items():\n",
    "        print(k,\":--\",v)\n",
    "    print(type(kwargs))\n",
    "    "
   ]
  },
  {
   "cell_type": "code",
   "execution_count": 41,
   "metadata": {},
   "outputs": [
    {
     "name": "stdout",
     "output_type": "stream",
     "text": [
      "我是:cp,今年18,I\n",
      "Love\n",
      "cp\n",
      "job :-- tearch\n",
      "goal :-- yes\n",
      "<class 'dict'>\n"
     ]
    },
    {
     "ename": "TypeError",
     "evalue": "func3() got multiple values for argument 'sex'",
     "output_type": "error",
     "traceback": [
      "\u001b[0;31m---------------------------------------------------------------------------\u001b[0m",
      "\u001b[0;31mTypeError\u001b[0m                                 Traceback (most recent call last)",
      "\u001b[0;32m<ipython-input-41-9440e3b8c7c3>\u001b[0m in \u001b[0;36m<module>\u001b[0;34m()\u001b[0m\n\u001b[1;32m      1\u001b[0m \u001b[0mfunc3\u001b[0m\u001b[0;34m(\u001b[0m\u001b[0;34m\"cp\"\u001b[0m\u001b[0;34m,\u001b[0m \u001b[0;36m18\u001b[0m\u001b[0;34m,\u001b[0m \u001b[0;34m\"I\"\u001b[0m\u001b[0;34m,\u001b[0m \u001b[0;34m\"Love\"\u001b[0m\u001b[0;34m,\u001b[0m \u001b[0;34m\"cp\"\u001b[0m\u001b[0;34m,\u001b[0m \u001b[0mjob\u001b[0m\u001b[0;34m=\u001b[0m\u001b[0;34m\"tearch\"\u001b[0m\u001b[0;34m,\u001b[0m \u001b[0mgoal\u001b[0m\u001b[0;34m=\u001b[0m\u001b[0;34m\"yes\"\u001b[0m \u001b[0;34m)\u001b[0m\u001b[0;34m\u001b[0m\u001b[0m\n\u001b[0;32m----> 2\u001b[0;31m \u001b[0mfunc3\u001b[0m\u001b[0;34m(\u001b[0m\u001b[0;34m\"cp\"\u001b[0m\u001b[0;34m,\u001b[0m \u001b[0;36m18\u001b[0m\u001b[0;34m,\u001b[0m \u001b[0;34m\"I\"\u001b[0m\u001b[0;34m,\u001b[0m \u001b[0;34m\"Love\"\u001b[0m\u001b[0;34m,\u001b[0m \u001b[0;34m\"cp\"\u001b[0m\u001b[0;34m,\u001b[0m \u001b[0mjob\u001b[0m\u001b[0;34m=\u001b[0m\u001b[0;34m\"tearch\"\u001b[0m\u001b[0;34m,\u001b[0m \u001b[0mgoal\u001b[0m\u001b[0;34m=\u001b[0m\u001b[0;34m\"yes\"\u001b[0m\u001b[0;34m,\u001b[0m \u001b[0msex\u001b[0m\u001b[0;34m=\u001b[0m\u001b[0;34m\"unknown\"\u001b[0m\u001b[0;34m)\u001b[0m  \u001b[0;31m#注意实参与形参的顺序保持一致\u001b[0m\u001b[0;34m\u001b[0m\u001b[0m\n\u001b[0m",
      "\u001b[0;31mTypeError\u001b[0m: func3() got multiple values for argument 'sex'"
     ]
    }
   ],
   "source": [
    "func3(\"cp\", 18, \"I\", \"Love\", \"cp\", job=\"tearch\", goal=\"yes\" )\n",
    "func3(\"cp\", 18, \"I\", \"Love\", \"cp\", job=\"tearch\", goal=\"yes\", sex=\"unknown\")  #注意实参与形参的顺序保持一致"
   ]
  },
  {
   "cell_type": "code",
   "execution_count": 48,
   "metadata": {
    "collapsed": true
   },
   "outputs": [],
   "source": [
    "# 函数文档\n",
    "def fun4(name,age):\n",
    "    '''\n",
    "    这里面的内容将写到 函数的doc属性中\n",
    "    '''\n",
    "    print(name,age)\n"
   ]
  },
  {
   "cell_type": "code",
   "execution_count": 49,
   "metadata": {},
   "outputs": [
    {
     "name": "stdout",
     "output_type": "stream",
     "text": [
      "Help on function fun4 in module __main__:\n",
      "\n",
      "fun4(name, age)\n",
      "    这里面的内容将写到 函数的doc属性中\n",
      "\n"
     ]
    },
    {
     "data": {
      "text/plain": [
       "'\\n    这里面的内容将写到 函数的doc属性中\\n    '"
      ]
     },
     "execution_count": 49,
     "metadata": {},
     "output_type": "execute_result"
    }
   ],
   "source": [
    "help(fun4)\n",
    "fun4.__doc__"
   ]
  }
 ],
 "metadata": {
  "kernelspec": {
   "display_name": "Python 3",
   "language": "python",
   "name": "python3"
  },
  "language_info": {
   "codemirror_mode": {
    "name": "ipython",
    "version": 3
   },
   "file_extension": ".py",
   "mimetype": "text/x-python",
   "name": "python",
   "nbconvert_exporter": "python",
   "pygments_lexer": "ipython3",
   "version": "3.6.3"
  }
 },
 "nbformat": 4,
 "nbformat_minor": 2
}
