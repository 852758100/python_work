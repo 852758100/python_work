{
 "cells": [
  {
   "cell_type": "code",
   "execution_count": 4,
   "metadata": {},
   "outputs": [
    {
     "name": "stdout",
     "output_type": "stream",
     "text": [
      "hi\n"
     ]
    }
   ],
   "source": [
    "for i in range(1,10):\n",
    "    pass # 里面至少有一句,不然会报错\n",
    "else:\n",
    "    print(\"hi\")"
   ]
  },
  {
   "cell_type": "code",
   "execution_count": 10,
   "metadata": {},
   "outputs": [
    {
     "name": "stdout",
     "output_type": "stream",
     "text": [
      "0\n",
      "1\n",
      "2\n",
      "3\n",
      "4\n"
     ]
    }
   ],
   "source": [
    "i = 0\n",
    "while i<5:\n",
    "    print(i)\n",
    "    i=i+1\n",
    "   "
   ]
  },
  {
   "cell_type": "code",
   "execution_count": 26,
   "metadata": {},
   "outputs": [
    {
     "name": "stdout",
     "output_type": "stream",
     "text": [
      "你存入的本金:1000\n",
      "你的在1年,本息共1067.0\n",
      "你的在2年,本息共1138.489\n",
      "你的在3年,本息共1214.767763\n",
      "你的在4年,本息共1296.157203121\n",
      "你的在5年,本息共1382.999735730107\n",
      "你的在6年,本息共1475.6607180240242\n",
      "你的在7年,本息共1574.5299861316337\n",
      "你的在8年,本息共1680.023495202453\n",
      "你的在9年,本息共1792.5850693810173\n",
      "你的在10年,本息共1912.6882690295454\n",
      "你的在11年,本息共2040.838383054525\n",
      "你的钱在11年将翻倍\n"
     ]
    }
   ],
   "source": [
    "init = int(input(\"你存入的本金:\"))\n",
    "s = 2 * init\n",
    "y = 0\n",
    "while init < s:\n",
    "    init = init * (1+0.067)\n",
    "    y +=1\n",
    "    print(\"你的在{0}年,本息共{1}\".format(y,init))\n",
    "print(\"你的钱在%d年将翻倍\"%y)"
   ]
  },
  {
   "cell_type": "markdown",
   "metadata": {},
   "source": [
    "# 函数\n",
    " - 函数的作用\n",
    " - 函数的使用:\n",
    "     - 先定义\n",
    "     "
   ]
  },
  {
   "cell_type": "code",
   "execution_count": 30,
   "metadata": {},
   "outputs": [
    {
     "name": "stdout",
     "output_type": "stream",
     "text": [
      "finished\n"
     ]
    }
   ],
   "source": [
    "def func():\n",
    "    print(\"function is worked\")\n",
    "print(\"finished\")"
   ]
  },
  {
   "cell_type": "code",
   "execution_count": 31,
   "metadata": {},
   "outputs": [
    {
     "name": "stdout",
     "output_type": "stream",
     "text": [
      "function is worked\n"
     ]
    }
   ],
   "source": [
    "func()"
   ]
  },
  {
   "cell_type": "code",
   "execution_count": 33,
   "metadata": {},
   "outputs": [
    {
     "name": "stdout",
     "output_type": "stream",
     "text": [
      "我要对你说love you\n"
     ]
    }
   ],
   "source": [
    "def sayHi(what):\n",
    "    print(\"我要对你说%s\"%what)\n",
    "sayHi(\"love you\")"
   ]
  },
  {
   "cell_type": "code",
   "execution_count": 36,
   "metadata": {},
   "outputs": [
    {
     "name": "stdout",
     "output_type": "stream",
     "text": [
      "love you\n"
     ]
    }
   ],
   "source": [
    "def func1():\n",
    "    return \"love you\"\n",
    "    print(\"会执行到这一步吗?\")\n",
    "s = func1()\n",
    "print(s)"
   ]
  },
  {
   "cell_type": "code",
   "execution_count": 51,
   "metadata": {},
   "outputs": [
    {
     "name": "stdout",
     "output_type": "stream",
     "text": [
      "1 X 1 = 1  \n",
      "2 X 1 = 2  2 X 2 = 4  \n",
      "3 X 1 = 3  3 X 2 = 6  3 X 3 = 9  \n",
      "4 X 1 = 4  4 X 2 = 8  4 X 3 = 12  4 X 4 = 16  \n",
      "5 X 1 = 5  5 X 2 = 10  5 X 3 = 15  5 X 4 = 20  5 X 5 = 25  \n",
      "6 X 1 = 6  6 X 2 = 12  6 X 3 = 18  6 X 4 = 24  6 X 5 = 30  6 X 6 = 36  \n",
      "7 X 1 = 7  7 X 2 = 14  7 X 3 = 21  7 X 4 = 28  7 X 5 = 35  7 X 6 = 42  7 X 7 = 49  \n",
      "8 X 1 = 8  8 X 2 = 16  8 X 3 = 24  8 X 4 = 32  8 X 5 = 40  8 X 6 = 48  8 X 7 = 56  8 X 8 = 64  \n",
      "9 X 1 = 9  9 X 2 = 18  9 X 3 = 27  9 X 4 = 36  9 X 5 = 45  9 X 6 = 54  9 X 7 = 63  9 X 8 = 72  9 X 9 = 81  \n",
      "-------between line---------\n",
      "9 X 1 = 9  9 X 2 = 18  9 X 3 = 27  9 X 4 = 36  9 X 5 = 45  9 X 6 = 54  9 X 7 = 63  9 X 8 = 72  9 X 9 = 81  \n",
      "8 X 1 = 8  8 X 2 = 16  8 X 3 = 24  8 X 4 = 32  8 X 5 = 40  8 X 6 = 48  8 X 7 = 56  8 X 8 = 64  \n",
      "7 X 1 = 7  7 X 2 = 14  7 X 3 = 21  7 X 4 = 28  7 X 5 = 35  7 X 6 = 42  7 X 7 = 49  \n",
      "6 X 1 = 6  6 X 2 = 12  6 X 3 = 18  6 X 4 = 24  6 X 5 = 30  6 X 6 = 36  \n",
      "5 X 1 = 5  5 X 2 = 10  5 X 3 = 15  5 X 4 = 20  5 X 5 = 25  \n",
      "4 X 1 = 4  4 X 2 = 8  4 X 3 = 12  4 X 4 = 16  \n",
      "3 X 1 = 3  3 X 2 = 6  3 X 3 = 9  \n",
      "2 X 1 = 2  2 X 2 = 4  \n",
      "1 X 1 = 1  \n",
      "-------between line---------\n",
      "                                                                                                        1 X 1 = 1  \n",
      "                                                                                           2 X 1 = 2  2 X 2 = 4  \n",
      "                                                                              3 X 1 = 3  3 X 2 = 6  3 X 3 = 9  \n",
      "                                                                 4 X 1 = 4  4 X 2 = 8  4 X 3 = 12  4 X 4 = 16  \n",
      "                                                    5 X 1 = 5  5 X 2 = 10  5 X 3 = 15  5 X 4 = 20  5 X 5 = 25  \n",
      "                                       6 X 1 = 6  6 X 2 = 12  6 X 3 = 18  6 X 4 = 24  6 X 5 = 30  6 X 6 = 36  \n",
      "                          7 X 1 = 7  7 X 2 = 14  7 X 3 = 21  7 X 4 = 28  7 X 5 = 35  7 X 6 = 42  7 X 7 = 49  \n",
      "             8 X 1 = 8  8 X 2 = 16  8 X 3 = 24  8 X 4 = 32  8 X 5 = 40  8 X 6 = 48  8 X 7 = 56  8 X 8 = 64  \n",
      "9 X 1 = 9  9 X 2 = 18  9 X 3 = 27  9 X 4 = 36  9 X 5 = 45  9 X 6 = 54  9 X 7 = 63  9 X 8 = 72  9 X 9 = 81  \n"
     ]
    }
   ],
   "source": [
    "# 打印九九乘法表\n",
    "def multi(r,c):\n",
    "    print(\"{0} X {1} = {2}\".format(r,c,r*c),end=\"  \")\n",
    "    \n",
    "def blank(n):\n",
    "    for i in range(1,n+1):\n",
    "        print(\"           \".format(r,c,r*c),end=\"  \")\n",
    "    \n",
    "for r in range(1,10):\n",
    "    for c in range(1,r+1):\n",
    "        multi(r,c)\n",
    "    print()\n",
    "\n",
    "print(\"-------between line---------\")\n",
    "for r in range(1,10):\n",
    "    for c in range(1,11-r):\n",
    "        multi(10-r,c)\n",
    "    print()\n",
    "    \n",
    "print(\"-------between line---------\")\n",
    "\n",
    "for r in range(1,10):\n",
    "    blank(9-r)\n",
    "    for c in range(1,r+1):\n",
    "        multi(r,c)\n",
    "    print()\n"
   ]
  },
  {
   "cell_type": "code",
   "execution_count": 54,
   "metadata": {},
   "outputs": [
    {
     "name": "stdout",
     "output_type": "stream",
     "text": [
      "Help on built-in function print in module builtins:\n",
      "\n",
      "print(...)\n",
      "    print(value, ..., sep=' ', end='\\n', file=sys.stdout, flush=False)\n",
      "    \n",
      "    Prints the values to a stream, or to sys.stdout by default.\n",
      "    Optional keyword arguments:\n",
      "    file:  a file-like object (stream); defaults to the current sys.stdout.\n",
      "    sep:   string inserted between values, default a space.\n",
      "    end:   string appended after the last value, default a newline.\n",
      "    flush: whether to forcibly flush the stream.\n",
      "\n"
     ]
    }
   ],
   "source": [
    "help(print)"
   ]
  },
  {
   "cell_type": "code",
   "execution_count": 55,
   "metadata": {},
   "outputs": [
    {
     "name": "stdout",
     "output_type": "stream",
     "text": [
      "550\n",
      "8\n"
     ]
    }
   ],
   "source": [
    "def func(p1=10,p2=55):\n",
    "    print(p1*p2)\n",
    "func()\n",
    "func(2,4)"
   ]
  },
  {
   "cell_type": "code",
   "execution_count": null,
   "metadata": {
    "collapsed": true
   },
   "outputs": [],
   "source": []
  }
 ],
 "metadata": {
  "kernelspec": {
   "display_name": "Python 3",
   "language": "python",
   "name": "python3"
  },
  "language_info": {
   "codemirror_mode": {
    "name": "ipython",
    "version": 3
   },
   "file_extension": ".py",
   "mimetype": "text/x-python",
   "name": "python",
   "nbconvert_exporter": "python",
   "pygments_lexer": "ipython3",
   "version": "3.6.3"
  }
 },
 "nbformat": 4,
 "nbformat_minor": 2
}
