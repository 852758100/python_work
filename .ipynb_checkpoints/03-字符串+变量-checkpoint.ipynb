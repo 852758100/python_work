{
 "cells": [
  {
   "cell_type": "markdown",
   "metadata": {
    "collapsed": true
   },
   "source": [
    "# 字符串\n",
    "    - 转义字符\n",
    "    - 格式化\n",
    "    - 内建函数\n",
    "    \n",
    "## 转义字符\n",
    "    - 在不同的操作系统中对回车换行有不同的规定\n",
    "        - Windows: \\n\n",
    "        - Linux: \\r\\n\n",
    "        "
   ]
  },
  {
   "cell_type": "code",
   "execution_count": 3,
   "metadata": {},
   "outputs": [
    {
     "ename": "SyntaxError",
     "evalue": "invalid syntax (<ipython-input-3-a7382c2d14e3>, line 4)",
     "output_type": "error",
     "traceback": [
      "\u001b[0;36m  File \u001b[0;32m\"<ipython-input-3-a7382c2d14e3>\"\u001b[0;36m, line \u001b[0;32m4\u001b[0m\n\u001b[0;31m    s =  'let\\ 's go' #\\后面有一个空格,就报错了\u001b[0m\n\u001b[0m                ^\u001b[0m\n\u001b[0;31mSyntaxError\u001b[0m\u001b[0;31m:\u001b[0m invalid syntax\n"
     ]
    }
   ],
   "source": [
    "是 =  'let\\'s go'\n",
    "print(是)\n",
    "\n",
    "s =  'let\\ 's go' #\\后面有一个空格,就报错了\n",
    "print(s)"
   ]
  },
  {
   "cell_type": "code",
   "execution_count": 7,
   "metadata": {},
   "outputs": [
    {
     "name": "stdout",
     "output_type": "stream",
     "text": [
      "I love \r\n",
      " WuDang\n"
     ]
    }
   ],
   "source": [
    "print(\"I love \\r\\n WuDang\")"
   ]
  },
  {
   "cell_type": "markdown",
   "metadata": {},
   "source": [
    "##  字符格式化\n",
    "    - 两种方法\n",
    "    "
   ]
  },
  {
   "cell_type": "code",
   "execution_count": 9,
   "metadata": {},
   "outputs": [
    {
     "name": "stdout",
     "output_type": "stream",
     "text": [
      "i love wuda\n"
     ]
    }
   ],
   "source": [
    "print(\"i love %s\"%\"wuda\")"
   ]
  },
  {
   "cell_type": "code",
   "execution_count": 18,
   "metadata": {},
   "outputs": [
    {
     "name": "stdout",
     "output_type": "stream",
     "text": [
      "18\n",
      "i am cp ,age 18\n"
     ]
    }
   ],
   "source": [
    "age = \"%d\"\n",
    "print(age%18)\n",
    "\n",
    "print(\"i am %s ,age %d\"%(\"cp\",18))"
   ]
  },
  {
   "cell_type": "markdown",
   "metadata": {},
   "source": [
    "### format函数格式化\n"
   ]
  },
  {
   "cell_type": "code",
   "execution_count": 23,
   "metadata": {},
   "outputs": [
    {
     "name": "stdout",
     "output_type": "stream",
     "text": [
      "i love wudan\n",
      "i love wudan,she's 18 years old\n"
     ]
    }
   ],
   "source": [
    "print(\"i love {}\".format(\"wudan\"))\n",
    "print(\"i love {0},she\\'s {1} years old\".format(\"wudan\",18))"
   ]
  },
  {
   "cell_type": "markdown",
   "metadata": {},
   "source": [
    "# 表达式\n",
    "## 算式运算符\n",
    "    注意:Python 没有自增自减运算符"
   ]
  },
  {
   "cell_type": "code",
   "execution_count": 34,
   "metadata": {},
   "outputs": [
    {
     "name": "stdout",
     "output_type": "stream",
     "text": [
      "4.333333333333333\n",
      "4\n",
      "1\n",
      "27\n"
     ]
    }
   ],
   "source": [
    "a = 13 / 3\n",
    "print(a)\n",
    "b = 13 // 3\n",
    "print(b)\n",
    "c = 13%3\n",
    "print(c)\n",
    "\n",
    "print(3**3) # ** 表示幂运算"
   ]
  },
  {
   "cell_type": "markdown",
   "metadata": {},
   "source": [
    "## 比较运算符"
   ]
  },
  {
   "cell_type": "code",
   "execution_count": 38,
   "metadata": {},
   "outputs": [
    {
     "name": "stdout",
     "output_type": "stream",
     "text": [
      "False\n",
      "True\n",
      "True\n"
     ]
    }
   ],
   "source": [
    "print(80==565)\n",
    "print(80!=565)\n",
    "print(80 == 80)"
   ]
  },
  {
   "cell_type": "markdown",
   "metadata": {},
   "source": [
    "## 赋值运算符"
   ]
  },
  {
   "cell_type": "code",
   "execution_count": 40,
   "metadata": {},
   "outputs": [
    {
     "name": "stdout",
     "output_type": "stream",
     "text": [
      "7\n"
     ]
    }
   ],
   "source": [
    "# = , 赋值\n",
    "a = 0\n",
    "c = a = 4\n",
    "\n",
    "# +=, 是缩写，\n",
    "a = 0\n",
    "a += 7 # a = a+ 7 的缩写\n",
    "print(a)\n",
    "\n",
    "\n",
    "# 所有数学运算符都有缩写形式\n",
    "# -=， ×=， /=, //=, %=, **=,都是缩写形式"
   ]
  },
  {
   "cell_type": "markdown",
   "metadata": {},
   "source": [
    "\n",
    "## 逻辑运算符\n",
    "- 对布尔值进行计算的符号\n",
    "- and 逻辑与\n",
    "- or 逻辑或\n",
    "- not 逻辑非\n",
    "- python中逻辑运算没有异或运算\n",
    " - 运算规则：\n",
    " - and看做乘法， or看做加法，\n",
    " - True看做1， False看做0\n",
    " - 则逻辑运算就能转换成整数数学运算\n",
    " - 最后结果如果是0则为False， 否则为True\n",
    " - 逻辑运算的短路问题\n",
    " - 逻辑运算式，按照运算顺序计算，一旦能够确定整个式子未来的值，则不再进行计算，直接返回\n",
    " "
   ]
  },
  {
   "cell_type": "code",
   "execution_count": 43,
   "metadata": {},
   "outputs": [
    {
     "name": "stdout",
     "output_type": "stream",
     "text": [
      "True\n"
     ]
    }
   ],
   "source": [
    "a = True\n",
    "b = True\n",
    "c = False\n",
    "print(a and c or b)"
   ]
  },
  {
   "cell_type": "code",
   "execution_count": 61,
   "metadata": {},
   "outputs": [
    {
     "name": "stdout",
     "output_type": "stream",
     "text": [
      "True\n",
      "True\n"
     ]
    }
   ],
   "source": [
    "#短路运算\n",
    "a =  True or asdf\n",
    "print(a)\n",
    "\n",
    "b =  True or -43\n",
    "print(b)"
   ]
  },
  {
   "cell_type": "markdown",
   "metadata": {},
   "source": [
    "## 成员运算符号\n",
    "-用来检测某一个变量是否是另一个变量的成员\n",
    " - in\n",
    " - not in"
   ]
  },
  {
   "cell_type": "code",
   "execution_count": 63,
   "metadata": {},
   "outputs": [
    {
     "name": "stdout",
     "output_type": "stream",
     "text": [
      "False\n",
      "True\n"
     ]
    }
   ],
   "source": [
    "l = [1,2,3,4]\n",
    "bool = 5 in l\n",
    "print(bool)\n",
    "\n",
    "bool = 5 not in l\n",
    "print(bool)"
   ]
  }
 ],
 "metadata": {
  "kernelspec": {
   "display_name": "Python 3",
   "language": "python",
   "name": "python3"
  },
  "language_info": {
   "codemirror_mode": {
    "name": "ipython",
    "version": 3
   },
   "file_extension": ".py",
   "mimetype": "text/x-python",
   "name": "python",
   "nbconvert_exporter": "python",
   "pygments_lexer": "ipython3",
   "version": "3.6.3"
  }
 },
 "nbformat": 4,
 "nbformat_minor": 2
}
