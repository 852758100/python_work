{
 "cells": [
  {
   "cell_type": "code",
   "execution_count": 6,
   "metadata": {},
   "outputs": [
    {
     "name": "stdout",
     "output_type": "stream",
     "text": [
      "if里面执行了\n",
      "if外面执行了\n"
     ]
    }
   ],
   "source": [
    "age = 10\n",
    "if age <17:\n",
    "    print(\"if里面执行了\")\n",
    "     \n",
    "print(\"if外面执行了\")"
   ]
  },
  {
   "cell_type": "code",
   "execution_count": 14,
   "metadata": {},
   "outputs": [
    {
     "name": "stdout",
     "output_type": "stream",
     "text": [
      "sex:发\n",
      "你的性别:发\n",
      "发\n",
      "坏女人\n",
      "ending\n"
     ]
    }
   ],
   "source": [
    "sex = input(\"sex:\")\n",
    "print(\"你的性别:{}\".format(sex))\n",
    "print(sex)\n",
    "if sex == \"男\":\n",
    "    print (\"好男人\")\n",
    "else:\n",
    "    print(\"坏女人\")\n",
    "\n",
    "print(\"ending\")"
   ]
  },
  {
   "cell_type": "code",
   "execution_count": 16,
   "metadata": {},
   "outputs": [
    {
     "ename": "IndentationError",
     "evalue": "unexpected indent (<ipython-input-16-06648b2f26e2>, line 8)",
     "output_type": "error",
     "traceback": [
      "\u001b[0;36m  File \u001b[0;32m\"<ipython-input-16-06648b2f26e2>\"\u001b[0;36m, line \u001b[0;32m8\u001b[0m\n\u001b[0;31m    print(\"error了\")\u001b[0m\n\u001b[0m    ^\u001b[0m\n\u001b[0;31mIndentationError\u001b[0m\u001b[0;31m:\u001b[0m unexpected indent\n"
     ]
    }
   ],
   "source": [
    "sex = input(\"sex:\")\n",
    "print(\"你的性别:{}\".format(sex))\n",
    "print(sex)\n",
    "if sex == \"男\":\n",
    "    print (\"好男人\")\n",
    "else:\n",
    "    print(\"坏女人\")\n",
    "        print(\"error了\")\n",
    "print(\"ending\")"
   ]
  },
  {
   "cell_type": "code",
   "execution_count": 27,
   "metadata": {},
   "outputs": [
    {
     "ename": "SyntaxError",
     "evalue": "invalid syntax (<ipython-input-27-53075fd0488b>, line 5)",
     "output_type": "error",
     "traceback": [
      "\u001b[0;36m  File \u001b[0;32m\"<ipython-input-27-53075fd0488b>\"\u001b[0;36m, line \u001b[0;32m5\u001b[0m\n\u001b[0;31m    else:\u001b[0m\n\u001b[0m       ^\u001b[0m\n\u001b[0;31mSyntaxError\u001b[0m\u001b[0;31m:\u001b[0m invalid syntax\n"
     ]
    }
   ],
   "source": [
    "sex = input(\"sex:\")\n",
    "print()\n",
    "if sex == \"男\":\n",
    "    print (\"好男人\")\n",
    "    else:\n",
    "        print(\"坏女人\")\n",
    "        print(\"right了\")  #同一个语句块内,缩进一致即可\n",
    "print(\"ending\")"
   ]
  },
  {
   "cell_type": "code",
   "execution_count": 31,
   "metadata": {},
   "outputs": [
    {
     "name": "stdout",
     "output_type": "stream",
     "text": [
      "分数:101\n",
      "------华丽的分割线-----\n",
      "你上天了\n",
      "ending\n"
     ]
    }
   ],
   "source": [
    "score = input(\"分数:\")\n",
    "score = int(score)\n",
    "print(\"------华丽的分割线-----\")\n",
    "if score>100:\n",
    "    print (\"你上天了\")\n",
    "elif  score > 90:\n",
    "    print (\"优秀\")\n",
    "elif  score>80:\n",
    "    print (\"良好\")\n",
    "elif  score>70:\n",
    "    print (\"合格\")\n",
    "else:\n",
    "    print(\"fuck\")\n",
    "print(\"ending\")"
   ]
  },
  {
   "cell_type": "code",
   "execution_count": 30,
   "metadata": {},
   "outputs": [
    {
     "ename": "SyntaxError",
     "evalue": "invalid syntax (<ipython-input-30-8c990a5417d0>, line 1)",
     "output_type": "error",
     "traceback": [
      "\u001b[0;36m  File \u001b[0;32m\"<ipython-input-30-8c990a5417d0>\"\u001b[0;36m, line \u001b[0;32m1\u001b[0m\n\u001b[0;31m    scro> = \"df\"\u001b[0m\n\u001b[0m          ^\u001b[0m\n\u001b[0;31mSyntaxError\u001b[0m\u001b[0;31m:\u001b[0m invalid syntax\n"
     ]
    }
   ],
   "source": [
    "scro> = \"df\"\n",
    "print(scro>)"
   ]
  },
  {
   "cell_type": "markdown",
   "metadata": {},
   "source": [
    "## python 中没有 switch-case 语句.\n"
   ]
  },
  {
   "cell_type": "code",
   "execution_count": 35,
   "metadata": {},
   "outputs": [
    {
     "name": "stdout",
     "output_type": "stream",
     "text": [
      "4\n",
      "5\n",
      "4\n"
     ]
    }
   ],
   "source": [
    "for score in [1,4,5,2,3,4]:\n",
    "    if score>3:\n",
    "        print(score) "
   ]
  },
  {
   "cell_type": "code",
   "execution_count": 38,
   "metadata": {},
   "outputs": [
    {
     "name": "stdout",
     "output_type": "stream",
     "text": [
      "6\n"
     ]
    }
   ],
   "source": [
    "for n in range(1,10):\n",
    "    if n == 6:\n",
    "        print(n)\n",
    "        break\n",
    "\n"
   ]
  },
  {
   "cell_type": "code",
   "execution_count": 41,
   "metadata": {},
   "outputs": [
    {
     "name": "stdout",
     "output_type": "stream",
     "text": [
      "2\n",
      "--\n",
      "4\n",
      "--\n",
      "6\n",
      "--\n",
      "8\n",
      "--\n"
     ]
    }
   ],
   "source": [
    "for _ in range(1,10):\n",
    "    if _ % 2 == 0:\n",
    "        print(_)\n",
    "    else:\n",
    "        continue\n",
    "    print(\"--\")\n"
   ]
  },
  {
   "cell_type": "markdown",
   "metadata": {
    "collapsed": true
   },
   "source": [
    "## 习题课练习"
   ]
  },
  {
   "cell_type": "code",
   "execution_count": 8,
   "metadata": {},
   "outputs": [
    {
     "name": "stdout",
     "output_type": "stream",
     "text": [
      "*****\n",
      "- - - - - \n",
      "*****\n",
      "- - - - - \n",
      "*****\n",
      "- - - - - \n",
      "*****\n",
      "- - - - - \n",
      "*****\n",
      "- - - - - \n"
     ]
    }
   ],
   "source": [
    "for _ in range(1,6):\n",
    "        print(\"*\" * 5)\n",
    "        print(\"- \"*5)"
   ]
  },
  {
   "cell_type": "code",
   "execution_count": 15,
   "metadata": {},
   "outputs": [
    {
     "name": "stdout",
     "output_type": "stream",
     "text": [
      "* cp* cp* cp* cp* cp\n",
      "* cp* cp* cp* cp* cp\n",
      "* cp* cp* cp* cp* cp\n",
      "* cp* cp* cp* cp* cp\n",
      "* cp* cp* cp* cp* cp\n"
     ]
    }
   ],
   "source": [
    "for _ in range(-1,4):\n",
    "    for _ in range(-1,4):\n",
    "        print(\"* \", end=\"cp\")\n",
    "    print()"
   ]
  },
  {
   "cell_type": "code",
   "execution_count": 17,
   "metadata": {},
   "outputs": [
    {
     "name": "stdout",
     "output_type": "stream",
     "text": [
      "* * * * * \n",
      "* * * * * \n",
      "* * * * * \n",
      "* * * * * \n",
      "* * * * * \n"
     ]
    }
   ],
   "source": [
    "for _ in range(-1,4):\n",
    "    for _ in range(-1,4):\n",
    "        print(\"* \", end=\"\")\n",
    "    print()"
   ]
  },
  {
   "cell_type": "code",
   "execution_count": 22,
   "metadata": {},
   "outputs": [
    {
     "name": "stdout",
     "output_type": "stream",
     "text": [
      "* * * * * \n",
      "*       *\n",
      "*       *\n",
      "* * * * * \n"
     ]
    }
   ],
   "source": [
    "for i in range(4):\n",
    "    if i==0 or i ==3 :\n",
    "        print(\"* \" * 5)\n",
    "    else:\n",
    "        print(\"*       *\")"
   ]
  },
  {
   "cell_type": "code",
   "execution_count": 29,
   "metadata": {},
   "outputs": [
    {
     "name": "stdout",
     "output_type": "stream",
     "text": [
      "* * * * * \n",
      "*       *\n",
      "*       *\n",
      "* * * * * \n"
     ]
    }
   ],
   "source": [
    "for i in range(4):\n",
    "    if i==0 or i ==3 :\n",
    "        for i in range(5):\n",
    "            print(\"* \", end=\"\")\n",
    "        print()\n",
    "    else:\n",
    "        print(\"*       *\")"
   ]
  },
  {
   "cell_type": "code",
   "execution_count": null,
   "metadata": {
    "collapsed": true
   },
   "outputs": [],
   "source": [
    "for i in range(4):\n",
    "    if i==0 or i ==3 :\n",
    "        for i in range(5):\n",
    "            print(\"* \", end=\"\")\n",
    "        print()\n",
    "    else:\n",
    "        print(\"*       *\")"
   ]
  }
 ],
 "metadata": {
  "kernelspec": {
   "display_name": "Python 3",
   "language": "python",
   "name": "python3"
  },
  "language_info": {
   "codemirror_mode": {
    "name": "ipython",
    "version": 3
   },
   "file_extension": ".py",
   "mimetype": "text/x-python",
   "name": "python",
   "nbconvert_exporter": "python",
   "pygments_lexer": "ipython3",
   "version": "3.6.3"
  }
 },
 "nbformat": 4,
 "nbformat_minor": 2
}
