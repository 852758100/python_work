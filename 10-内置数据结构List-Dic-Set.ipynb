{
 "cells": [
  {
   "cell_type": "code",
   "execution_count": 2,
   "metadata": {},
   "outputs": [
    {
     "data": {
      "text/plain": [
       "4"
      ]
     },
     "execution_count": 2,
     "metadata": {},
     "output_type": "execute_result"
    }
   ],
   "source": [
    "a = 1,2,3,4\n",
    "len(a)"
   ]
  },
  {
   "cell_type": "code",
   "execution_count": 4,
   "metadata": {},
   "outputs": [
    {
     "name": "stdout",
     "output_type": "stream",
     "text": [
      "a: 10 --- b: 2\n"
     ]
    }
   ],
   "source": [
    "a = 2\n",
    "b = 10\n",
    "\n",
    "a,b = b,a\n",
    "\n",
    "print(\"a:\",a,\"---\",\"b:\",b)"
   ]
  },
  {
   "cell_type": "markdown",
   "metadata": {},
   "source": [
    "# 集合Set\n"
   ]
  },
  {
   "cell_type": "code",
   "execution_count": 10,
   "metadata": {},
   "outputs": [
    {
     "name": "stdout",
     "output_type": "stream",
     "text": [
      "<class 'set'>    set()\n",
      "<class 'dict'>    {}\n",
      "<class 'set'>    {1, 3, 5, 8, 45}\n"
     ]
    }
   ],
   "source": [
    "s1 = set()\n",
    "print(type(s1),\"  \",s1)\n",
    "\n",
    "s2 = {}\n",
    "print(type(s2),\"  \",s2)\n",
    "\n",
    "s3 = {1,3,45,5,8}\n",
    "print(type(s3),\"  \",s3)"
   ]
  },
  {
   "cell_type": "code",
   "execution_count": 14,
   "metadata": {},
   "outputs": [
    {
     "data": {
      "text/plain": [
       "True"
      ]
     },
     "execution_count": 14,
     "metadata": {},
     "output_type": "execute_result"
    }
   ],
   "source": [
    "a = {1,2,3,4}\n",
    "\n",
    "4 in a  \n",
    "9 not in a\n"
   ]
  },
  {
   "cell_type": "code",
   "execution_count": 19,
   "metadata": {},
   "outputs": [
    {
     "name": "stdout",
     "output_type": "stream",
     "text": [
      "12 cp 21 87 - "
     ]
    }
   ],
   "source": [
    "b = {\"cp\",21,12,\"-\",87}\n",
    "\n",
    "for i in b:\n",
    "    print(i,end=\" \")"
   ]
  },
  {
   "cell_type": "code",
   "execution_count": 22,
   "metadata": {},
   "outputs": [
    {
     "name": "stdout",
     "output_type": "stream",
     "text": [
      "(12, 4, 3, 2)  43  ('cp', 21, 12, '-', 87)  23  pc  "
     ]
    }
   ],
   "source": [
    "b = {(\"cp\",21,12,\"-\",87),43,23,\"pc\",(12,4,3,2)}\n",
    "\n",
    "for i in b:\n",
    "    print(i,end=\"  \")"
   ]
  },
  {
   "cell_type": "code",
   "execution_count": 26,
   "metadata": {},
   "outputs": [
    {
     "name": "stdout",
     "output_type": "stream",
     "text": [
      "{1, 2, 3, 4, 5, 6, 9, 23}\n",
      "{1, 2, 3, 4, 5, 6, 9, 23}\n",
      "{9, 5, 6, 23}\n"
     ]
    }
   ],
   "source": [
    "s = {1,3,4,2,5,2,9,5,4,3,3,6,9,23,2}\n",
    "print(s)\n",
    "\n",
    "ss = {i for i in s}\n",
    "print(ss)\n",
    "\n",
    "sss = {i for i in s if i >4}\n",
    "print(sss)"
   ]
  },
  {
   "cell_type": "code",
   "execution_count": 33,
   "metadata": {},
   "outputs": [
    {
     "name": "stdout",
     "output_type": "stream",
     "text": [
      "{1, 2, 3, 34, 5, 43, 13, 52, 54, 31}\n",
      "140521539875560\n",
      "---------------\n",
      "{1, 2, 3, 34, 5, 10, 43, 13, 52, 54, 31}\n",
      "140521539875560\n",
      "{1, 2, 3, 34, 5, 10, 13, 54, 31}\n"
     ]
    },
    {
     "ename": "KeyError",
     "evalue": "111",
     "output_type": "error",
     "traceback": [
      "\u001b[0;31m---------------------------------------------------------------------------\u001b[0m",
      "\u001b[0;31mKeyError\u001b[0m                                  Traceback (most recent call last)",
      "\u001b[0;32m<ipython-input-33-0af8127fd75a>\u001b[0m in \u001b[0;36m<module>\u001b[0;34m()\u001b[0m\n\u001b[1;32m     19\u001b[0m \u001b[0mprint\u001b[0m\u001b[0;34m(\u001b[0m\u001b[0ms\u001b[0m\u001b[0;34m)\u001b[0m\u001b[0;34m\u001b[0m\u001b[0m\n\u001b[1;32m     20\u001b[0m \u001b[0;34m\u001b[0m\u001b[0m\n\u001b[0;32m---> 21\u001b[0;31m \u001b[0ms\u001b[0m\u001b[0;34m.\u001b[0m\u001b[0mremove\u001b[0m\u001b[0;34m(\u001b[0m\u001b[0;36m111\u001b[0m\u001b[0;34m)\u001b[0m\u001b[0;34m\u001b[0m\u001b[0m\n\u001b[0m",
      "\u001b[0;31mKeyError\u001b[0m: 111"
     ]
    }
   ],
   "source": [
    "l = [1,3,2,52,34,54,5,13,31,43,3,5,1,3,13]\n",
    "s = set(l)\n",
    "\n",
    "print(s)\n",
    "\n",
    "print(id(s))\n",
    "\n",
    "s.add(10)\n",
    "\n",
    "print(\"-\"*15)\n",
    "\n",
    "print(s)\n",
    "\n",
    "print(id(s))\n",
    "\n",
    "s.remove(43)\n",
    "s.discard(52)\n",
    "\n",
    "print(s)\n",
    "\n",
    "s.remove(111)"
   ]
  },
  {
   "cell_type": "code",
   "execution_count": 35,
   "metadata": {},
   "outputs": [
    {
     "name": "stdout",
     "output_type": "stream",
     "text": [
      "2\n"
     ]
    }
   ],
   "source": [
    "d = s.pop()\n",
    "print(d)"
   ]
  },
  {
   "cell_type": "code",
   "execution_count": 41,
   "metadata": {},
   "outputs": [
    {
     "name": "stdout",
     "output_type": "stream",
     "text": [
      "{10, 34, 3, 5}\n",
      "{10, 34, 3, 5}\n",
      "False\n",
      "{1, 2, 3, 5, 6, 7, 8, 10, 13, 31, 34, 54}\n",
      "{8, 6, 7}\n",
      "{8, 6, 7}\n"
     ]
    }
   ],
   "source": [
    "s = {1, 2, 3, 34, 5, 10, 13, 54, 31}\n",
    "ss = { 3, 34, 5, 10,6,8,7 } \n",
    "print(s.intersection(ss))\n",
    "print(ss.intersection(s))\n",
    "print(ss.issubset(s))\n",
    "\n",
    "\n",
    "print(ss.union(s))\n",
    "print(ss.difference(s))\n",
    "print(ss - s)"
   ]
  },
  {
   "cell_type": "markdown",
   "metadata": {},
   "source": [
    "# 字典  Dict"
   ]
  },
  {
   "cell_type": "code",
   "execution_count": 58,
   "metadata": {},
   "outputs": [
    {
     "name": "stdout",
     "output_type": "stream",
     "text": [
      "{'one': 1, 'two': 2, 'three': 3}\n",
      "{'ne': 'cp', 'cham': 'pc', 'other': 'none'}\n",
      "{'s': 1, 'cham': 2}\n",
      "{'one': 1, 'two': 2, 'three': 3}\n"
     ]
    }
   ],
   "source": [
    "s = \"one\"\n",
    "\n",
    "d = {s:1,\"two\":2,\"three\":3}\n",
    "print(d)\n",
    "\n",
    "d = dict({\"ne\":\"cp\", \"cham\":\"pc\", \"other\":\"none\"})\n",
    "print(d)\n",
    "\n",
    "d = dict(s=1, cham=2)\n",
    "print(d)\n",
    "\n",
    "d = {\"one\":1, \"two\":2, \"three\":3}\n",
    "print(d)"
   ]
  },
  {
   "cell_type": "code",
   "execution_count": 75,
   "metadata": {},
   "outputs": [
    {
     "name": "stdout",
     "output_type": "stream",
     "text": [
      "{'one': 1, 'two': 2, 'three': 3}\n",
      "{'two': 2, 'three': 3}\n",
      "2\n",
      "two 2\n",
      "three 3\n",
      "first 1\n"
     ]
    }
   ],
   "source": [
    "d = {\"one\":1,\"two\":2,\"three\":3}\n",
    "print(d)\n",
    "two =\"two\"\n",
    "del d[\"one\"]\n",
    "print(d)\n",
    "\n",
    "d[\"first\"] = 1\n",
    "print(d[two])\n",
    "\n",
    "for k in d:\n",
    "    print(k,d[k])"
   ]
  },
  {
   "cell_type": "code",
   "execution_count": 84,
   "metadata": {},
   "outputs": [
    {
     "name": "stdout",
     "output_type": "stream",
     "text": [
      "{'one': 1, 'two': 2, 'three': 3}\n",
      "{'two': 2}\n",
      "100\n"
     ]
    }
   ],
   "source": [
    "d = {\"one\":1,\"two\":2,\"three\":3}\n",
    "\n",
    "dd = {k:v for k, v in d.items()}\n",
    "print(dd)\n",
    "\n",
    "dd = {k:d[k] for k in d if d[k] % 2 == 0}\n",
    "print(dd)\n",
    "\n",
    "print(d.get(\"nen\",100))"
   ]
  }
 ],
 "metadata": {
  "kernelspec": {
   "display_name": "Python 3",
   "language": "python",
   "name": "python3"
  },
  "language_info": {
   "codemirror_mode": {
    "name": "ipython",
    "version": 3
   },
   "file_extension": ".py",
   "mimetype": "text/x-python",
   "name": "python",
   "nbconvert_exporter": "python",
   "pygments_lexer": "ipython3",
   "version": "3.6.3"
  }
 },
 "nbformat": 4,
 "nbformat_minor": 2
}
